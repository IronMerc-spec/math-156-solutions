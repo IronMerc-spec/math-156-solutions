{
 "cells": [
  {
   "cell_type": "code",
   "execution_count": 1,
   "id": "2bf9c701",
   "metadata": {},
   "outputs": [],
   "source": [
    "import numpy as np\n",
    "from sklearn.datasets import load_breast_cancer\n",
    "from sklearn import preprocessing\n",
    "from sklearn.model_selection import train_test_split"
   ]
  },
  {
   "cell_type": "code",
   "execution_count": 2,
   "id": "9c2204bc",
   "metadata": {},
   "outputs": [],
   "source": [
    "# 3\n",
    "\n",
    "class LogisticRegression():\n",
    "    \n",
    "    def __init__(self, X_train, y_train, batch_size, learning_rate, max_iter):\n",
    "        self.weights = np.array([np.random.normal(0, 1) for i in range(len(X_train[0])+1)])\n",
    "        self.X_train = X_train\n",
    "        self.y_train = y_train\n",
    "        self.batch_size = batch_size\n",
    "        self.learning_rate = learning_rate\n",
    "        self.max_iter = max_iter\n",
    "        self.num_features = len(X_train[0])\n",
    "         \n",
    "    def sigmoid(self, val):\n",
    "        return 1/(1+np.exp(-val))\n",
    "        \n",
    "    def fit(self):\n",
    "        for i in range(self.max_iter):\n",
    "            batch_val = np.random.choice(range(len(self.X_train)), size = self.batch_size)\n",
    "            edit = np.zeros(self.num_features+1)\n",
    "            for j in batch_val:\n",
    "                edit = edit + (self.sigmoid(np.matmul(self.weights, np.concatenate(([1], self.X_train[j])))) - self.y_train[j])*np.concatenate(([1], self.X_train[j]))\n",
    "            self.weights = self.weights - self.learning_rate*edit\n",
    "            \n",
    "    def predict(self, X_test):\n",
    "        results = np.matmul(np.concatenate(([[1]]*(len(X_test)), X_test), axis = 1), self.weights)\n",
    "        results = [self.sigmoid(a) for a in results]\n",
    "        results = [1 if result >=0.5 else 0 for result in results]\n",
    "        return np.array(results)"
   ]
  },
  {
   "cell_type": "code",
   "execution_count": 3,
   "id": "f651f856",
   "metadata": {},
   "outputs": [],
   "source": [
    "# 4a\n",
    "\n",
    "breast_cancer_dataset = load_breast_cancer()"
   ]
  },
  {
   "cell_type": "code",
   "execution_count": 4,
   "id": "5ebe24b7",
   "metadata": {},
   "outputs": [],
   "source": [
    "# 4b\n",
    "\n",
    "# splits into train/test (75/25 split)\n",
    "\n",
    "X_train, X_test, y_train, y_test = train_test_split(breast_cancer_dataset['data'], breast_cancer_dataset['target'], test_size=0.25)\n",
    "\n",
    "# splits into test/val split (10/15 split)\n",
    "\n",
    "X_val, X_test, y_val, y_test = train_test_split(X_test, y_test, test_size=0.4)"
   ]
  },
  {
   "cell_type": "code",
   "execution_count": 5,
   "id": "d2777570",
   "metadata": {},
   "outputs": [
    {
     "name": "stdout",
     "output_type": "stream",
     "text": [
      "Train size: 426\n",
      "Val size: 85\n",
      "Test size: 58\n"
     ]
    }
   ],
   "source": [
    "# 4c\n",
    "\n",
    "print('Train size: ' + str(len(y_train)))\n",
    "print('Val size: ' + str(len(y_val)))\n",
    "print('Test size: ' + str(len(y_test)))"
   ]
  },
  {
   "cell_type": "code",
   "execution_count": 6,
   "id": "f828f411",
   "metadata": {},
   "outputs": [],
   "source": [
    "# 4d\n",
    "\n",
    "scaler = preprocessing.StandardScaler().fit(X_train)\n",
    "X_train_scaled = scaler.transform(X_train)\n",
    "X_train_scaled.shape\n",
    "\n",
    "LRModel = LogisticRegression(X_train_scaled, y_train, 64, 0.001, 7500)\n",
    "LRModel.fit()"
   ]
  },
  {
   "cell_type": "code",
   "execution_count": 7,
   "id": "4d18b627",
   "metadata": {},
   "outputs": [
    {
     "name": "stdout",
     "output_type": "stream",
     "text": [
      "Accuracy: 0.9882352941176471\n",
      "Precision: 1.0\n",
      "Recall: 0.9818181818181818\n",
      "F1: 0.9908256880733944\n"
     ]
    }
   ],
   "source": [
    "# used to find optimal hyperparameter\n",
    "\n",
    "X_val = scaler.transform(X_val)\n",
    "predictions = LRModel.predict(X_val)\n",
    "actual = y_val\n",
    "TP = (predictions == 1) & (actual == 1)\n",
    "FP = (predictions == 1) & (actual == 0)\n",
    "TN = (predictions == 0) & (actual == 0)\n",
    "FN = (predictions == 0) & (actual == 1)\n",
    "\n",
    "accuracy = (sum(TP) + sum(TN))/len(X_val)\n",
    "precision = sum(TP)/(sum(TP) + sum(FP))\n",
    "recall = sum(TP)/(sum(TP) + sum(FN))\n",
    "\n",
    "print('Accuracy: ' + str(accuracy))\n",
    "print('Precision: ' + str(precision))\n",
    "print('Recall: ' + str(recall))\n",
    "print('F1: ' + str(2*precision*recall/(precision + recall)))"
   ]
  },
  {
   "cell_type": "code",
   "execution_count": 8,
   "id": "76bcf3e4",
   "metadata": {},
   "outputs": [
    {
     "name": "stdout",
     "output_type": "stream",
     "text": [
      "Accuracy: 0.9827586206896551\n",
      "Precision: 1.0\n",
      "Recall: 0.9772727272727273\n",
      "F1: 0.9885057471264368\n"
     ]
    }
   ],
   "source": [
    "# 4e\n",
    "\n",
    "X_test = scaler.transform(X_test)\n",
    "predictions = LRModel.predict(X_test)\n",
    "actual = y_test\n",
    "TP = (predictions == 1) & (actual == 1)\n",
    "FP = (predictions == 1) & (actual == 0)\n",
    "TN = (predictions == 0) & (actual == 0)\n",
    "FN = (predictions == 0) & (actual == 1)\n",
    "\n",
    "accuracy = (sum(TP) + sum(TN))/len(X_test)\n",
    "precision = sum(TP)/(sum(TP) + sum(FP))\n",
    "recall = sum(TP)/(sum(TP) + sum(FN))\n",
    "\n",
    "print('Accuracy: ' + str(accuracy))\n",
    "print('Precision: ' + str(precision))\n",
    "print('Recall: ' + str(recall))\n",
    "print('F1: ' + str(2*precision*recall/(precision + recall)))"
   ]
  },
  {
   "cell_type": "code",
   "execution_count": null,
   "id": "b83947fc",
   "metadata": {},
   "outputs": [],
   "source": []
  }
 ],
 "metadata": {
  "kernelspec": {
   "display_name": "Python 3 (ipykernel)",
   "language": "python",
   "name": "python3"
  },
  "language_info": {
   "codemirror_mode": {
    "name": "ipython",
    "version": 3
   },
   "file_extension": ".py",
   "mimetype": "text/x-python",
   "name": "python",
   "nbconvert_exporter": "python",
   "pygments_lexer": "ipython3",
   "version": "3.11.4"
  }
 },
 "nbformat": 4,
 "nbformat_minor": 5
}
