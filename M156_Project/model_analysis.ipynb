{
 "cells": [
  {
   "cell_type": "code",
   "execution_count": 1,
   "id": "4070082e-1750-418b-bbd1-1b7219bfa0a8",
   "metadata": {},
   "outputs": [],
   "source": [
    "import torch\n",
    "import torch.nn as nn\n",
    "import torch.optim as optim\n",
    "import torchvision.transforms as transforms\n",
    "import torchvision.models as models\n",
    "from torch.utils.data import DataLoader\n",
    "from torchvision import datasets\n",
    "import torchmetrics\n",
    "from torchmetrics import ConfusionMatrix\n",
    "from sklearn.metrics import f1_score, precision_score, recall_score, confusion_matrix"
   ]
  },
  {
   "cell_type": "code",
   "execution_count": 2,
   "id": "81ba047b-eb0e-4680-828b-9510f7a53f90",
   "metadata": {},
   "outputs": [],
   "source": [
    "# resizes and transforms images\n",
    "\n",
    "transform = transforms.Compose([\n",
    "    transforms.Resize((112, 112)),\n",
    "    transforms.ToTensor(),])\n",
    "\n",
    "# applies transformations and loads datasets\n",
    "\n",
    "test_dataset = datasets.ImageFolder('M156_Dataset/test', transform = transform)\n",
    "train_dataset = datasets.ImageFolder('M156_Dataset/train', transform = transform)"
   ]
  },
  {
   "cell_type": "code",
   "execution_count": 3,
   "id": "4363d71e-6aa3-4ffd-99b4-9810b6361d6e",
   "metadata": {},
   "outputs": [],
   "source": [
    "# loads data in dataloaders\n",
    "\n",
    "train_loader = DataLoader(train_dataset, batch_size=16, shuffle=True)\n",
    "test_loader = DataLoader(test_dataset, batch_size=16, shuffle=False)"
   ]
  },
  {
   "cell_type": "code",
   "execution_count": 4,
   "id": "78b20664-aceb-4735-b189-bc8e1bae1219",
   "metadata": {},
   "outputs": [
    {
     "name": "stderr",
     "output_type": "stream",
     "text": [
      "C:\\Users\\Ben\\AppData\\Local\\anaconda3\\envs\\NLPTransformer\\lib\\site-packages\\torchvision\\models\\_utils.py:208: UserWarning: The parameter 'pretrained' is deprecated since 0.13 and may be removed in the future, please use 'weights' instead.\n",
      "  warnings.warn(\n",
      "C:\\Users\\Ben\\AppData\\Local\\anaconda3\\envs\\NLPTransformer\\lib\\site-packages\\torchvision\\models\\_utils.py:223: UserWarning: Arguments other than a weight enum or `None` for 'weights' are deprecated since 0.13 and may be removed in the future. The current behavior is equivalent to passing `weights=None`.\n",
      "  warnings.warn(msg)\n"
     ]
    }
   ],
   "source": [
    "device = torch.device(\"cuda\" if torch.cuda.is_available() else \"cpu\")\n",
    "\n",
    "# Load the pre-trained ResNet18 model\n",
    "model = models.resnet18(pretrained=False)\n",
    "\n",
    "# Replace the last fully connected layer \n",
    "num_ftrs = model.fc.in_features\n",
    "\n",
    "# Modify the fully connected layers\n",
    "num_ftrs = model.fc.in_features\n",
    "model.fc = nn.Sequential(\n",
    "    nn.Linear(num_ftrs, 128),\n",
    "    nn.ReLU(),\n",
    "    nn.Linear(128, 64),\n",
    "    nn.ReLU(),\n",
    "    nn.Linear(64, 4)  # Output layer with 4 units\n",
    ")\n",
    "\n",
    "model = model.to(device)"
   ]
  },
  {
   "cell_type": "code",
   "execution_count": 5,
   "id": "3e4dc752-5f97-4ed6-81e1-492f75b1f101",
   "metadata": {},
   "outputs": [
    {
     "name": "stderr",
     "output_type": "stream",
     "text": [
      "C:\\Users\\Ben\\AppData\\Local\\Temp\\ipykernel_18268\\3770576977.py:1: FutureWarning: You are using `torch.load` with `weights_only=False` (the current default value), which uses the default pickle module implicitly. It is possible to construct malicious pickle data which will execute arbitrary code during unpickling (See https://github.com/pytorch/pytorch/blob/main/SECURITY.md#untrusted-models for more details). In a future release, the default value for `weights_only` will be flipped to `True`. This limits the functions that could be executed during unpickling. Arbitrary objects will no longer be allowed to be loaded via this mode unless they are explicitly allowlisted by the user via `torch.serialization.add_safe_globals`. We recommend you start setting `weights_only=True` for any use case where you don't have full control of the loaded file. Please open an issue on GitHub for any issues related to this experimental feature.\n",
      "  model.load_state_dict(torch.load('model_weights.pth'))\n"
     ]
    }
   ],
   "source": [
    "model.load_state_dict(torch.load('model_weights.pth'))\n",
    "model.eval() #set the model to evaluation mode\n",
    "criterion = nn.CrossEntropyLoss().to(device)"
   ]
  },
  {
   "cell_type": "code",
   "execution_count": 6,
   "id": "357676c8-5e18-4c7d-ac75-072508bab9dc",
   "metadata": {},
   "outputs": [
    {
     "name": "stdout",
     "output_type": "stream",
     "text": [
      "Confusion Matrix:\n",
      " [[353  38  12   0]\n",
      " [  5 799   0   0]\n",
      " [  0   1 774   0]\n",
      " [  0   1   0 642]]\n",
      "F1 Score:  0.9778661223661544\n",
      "Precision:  0.9787459430360792\n",
      "Recall:  0.9782857142857143\n",
      "Classification Report:\n",
      "               precision    recall  f1-score   support\n",
      "\n",
      "           0       0.99      0.88      0.93       403\n",
      "           1       0.95      0.99      0.97       804\n",
      "           2       0.98      1.00      0.99       775\n",
      "           3       1.00      1.00      1.00       643\n",
      "\n",
      "    accuracy                           0.98      2625\n",
      "   macro avg       0.98      0.97      0.97      2625\n",
      "weighted avg       0.98      0.98      0.98      2625\n",
      "\n"
     ]
    }
   ],
   "source": [
    "# Initialize confusion matrix\n",
    "conf_mat = ConfusionMatrix(task=\"multiclass\", num_classes=4).to(device)\n",
    "# Initialize a list to store true labels and predictions for metrics calculation\n",
    "all_preds = []\n",
    "all_labels = []\n",
    "\n",
    "# Validation phase\n",
    "model.eval()\n",
    "validation_loss = 0.0\n",
    "\n",
    "with torch.no_grad():\n",
    "    for feature, target in train_loader:\n",
    "        target = target.to(device)\n",
    "        feature = feature.to(device)\n",
    "\n",
    "        # Forward pass\n",
    "        prediction = model(feature)\n",
    "\n",
    "        # Store predictions and labels\n",
    "        all_preds.extend(prediction.argmax(dim=1).cpu().numpy())\n",
    "        all_labels.extend(target.cpu().numpy())\n",
    "\n",
    "        # Calculate loss\n",
    "        loss = criterion(prediction, nn.functional.one_hot(target, num_classes=4).double().to(device))\n",
    "        validation_loss += loss.item()\n",
    "\n",
    "# Compute the confusion matrix\n",
    "cm = confusion_matrix(all_labels, all_preds)\n",
    "print(\"Confusion Matrix:\\n\", cm)\n",
    "\n",
    "# Calculate F1 Score, Precision, and Recall\n",
    "f1 = f1_score(all_labels, all_preds, average='weighted')\n",
    "precision = precision_score(all_labels, all_preds, average='weighted')\n",
    "recall = recall_score(all_labels, all_preds, average='weighted')\n",
    "\n",
    "print(\"F1 Score: \", f1)\n",
    "print(\"Precision: \", precision)\n",
    "print(\"Recall: \", recall)\n",
    "\n",
    "# Classification report (optional)\n",
    "from sklearn.metrics import classification_report\n",
    "print(\"Classification Report:\\n\", classification_report(all_labels, all_preds))"
   ]
  },
  {
   "cell_type": "code",
   "execution_count": 7,
   "id": "7c900b57-a16e-455d-b115-fbe51b806a62",
   "metadata": {},
   "outputs": [
    {
     "name": "stdout",
     "output_type": "stream",
     "text": [
      "Confusion Matrix:\n",
      " [[42  6  2  0]\n",
      " [ 1 99  0  0]\n",
      " [ 0  0 97  0]\n",
      " [ 0  1  0 79]]\n",
      "F1 Score:  0.9687610232553339\n",
      "Precision:  0.9702563906967093\n",
      "Recall:  0.9694189602446484\n",
      "Classification Report:\n",
      "               precision    recall  f1-score   support\n",
      "\n",
      "           0       0.98      0.84      0.90        50\n",
      "           1       0.93      0.99      0.96       100\n",
      "           2       0.98      1.00      0.99        97\n",
      "           3       1.00      0.99      0.99        80\n",
      "\n",
      "    accuracy                           0.97       327\n",
      "   macro avg       0.97      0.95      0.96       327\n",
      "weighted avg       0.97      0.97      0.97       327\n",
      "\n"
     ]
    }
   ],
   "source": [
    "# Initialize confusion matrix\n",
    "conf_mat = ConfusionMatrix(task=\"multiclass\", num_classes=4).to(device)\n",
    "\n",
    "# Initialize a list to store true labels and predictions for metrics calculation\n",
    "all_preds = []\n",
    "all_labels = []\n",
    "\n",
    "# Validation phase\n",
    "model.eval()\n",
    "validation_loss = 0.0\n",
    "\n",
    "with torch.no_grad():\n",
    "    for feature, target in test_loader:\n",
    "        target = target.to(device)\n",
    "        feature = feature.to(device)\n",
    "\n",
    "        # Forward pass\n",
    "        prediction = model(feature)\n",
    "\n",
    "        # Store predictions and labels\n",
    "        all_preds.extend(prediction.argmax(dim=1).cpu().numpy())\n",
    "        all_labels.extend(target.cpu().numpy())\n",
    "\n",
    "        # Calculate loss\n",
    "        loss = criterion(prediction, nn.functional.one_hot(target, num_classes=4).double().to(device))\n",
    "        validation_loss += loss.item()\n",
    "\n",
    "# Compute the confusion matrix\n",
    "cm = confusion_matrix(all_labels, all_preds)\n",
    "print(\"Confusion Matrix:\\n\", cm)\n",
    "\n",
    "# Calculate F1 Score, Precision, and Recall\n",
    "f1 = f1_score(all_labels, all_preds, average='weighted')\n",
    "precision = precision_score(all_labels, all_preds, average='weighted')\n",
    "recall = recall_score(all_labels, all_preds, average='weighted')\n",
    "\n",
    "print(\"F1 Score: \", f1)\n",
    "print(\"Precision: \", precision)\n",
    "print(\"Recall: \", recall)\n",
    "\n",
    "# Classification report (optional)\n",
    "from sklearn.metrics import classification_report\n",
    "print(\"Classification Report:\\n\", classification_report(all_labels, all_preds))"
   ]
  },
  {
   "cell_type": "code",
   "execution_count": null,
   "id": "82aee99a-fa67-4ed2-8ca5-4e80b651a54a",
   "metadata": {},
   "outputs": [],
   "source": []
  }
 ],
 "metadata": {
  "kernelspec": {
   "display_name": "Python 3 (ipykernel)",
   "language": "python",
   "name": "python3"
  },
  "language_info": {
   "codemirror_mode": {
    "name": "ipython",
    "version": 3
   },
   "file_extension": ".py",
   "mimetype": "text/x-python",
   "name": "python",
   "nbconvert_exporter": "python",
   "pygments_lexer": "ipython3",
   "version": "3.10.15"
  }
 },
 "nbformat": 4,
 "nbformat_minor": 5
}
